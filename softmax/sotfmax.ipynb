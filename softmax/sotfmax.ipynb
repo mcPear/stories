{
 "cells": [
  {
   "cell_type": "code",
   "execution_count": 131,
   "metadata": {},
   "outputs": [],
   "source": [
    "import matplotlib.pyplot as plt\n",
    "\n",
    "%matplotlib inline"
   ]
  },
  {
   "cell_type": "code",
   "execution_count": 132,
   "metadata": {},
   "outputs": [],
   "source": [
    "import scipy\n",
    "import numpy as np\n",
    "\n",
    "\n",
    "def softmax(numbers):\n",
    "    probabilities = scipy.special.softmax(numbers)  # applying softmax\n",
    "    probabilities = np.around(probabilities, decimals=4)  # rounding for readability\n",
    "    return probabilities.tolist()  # converting numpy array to Python list"
   ]
  },
  {
   "cell_type": "code",
   "execution_count": 133,
   "metadata": {},
   "outputs": [],
   "source": [
    "some_real_numbers = [-0.3124, 1.4719, 2.1271, -1.2342]"
   ]
  },
  {
   "cell_type": "code",
   "execution_count": 134,
   "metadata": {},
   "outputs": [],
   "source": [
    "colors = [\"#22A699\", \"#F2BE22\", \"#F29727\", \"#F24C3D\"]"
   ]
  },
  {
   "cell_type": "code",
   "execution_count": 135,
   "metadata": {},
   "outputs": [
    {
     "data": {
      "text/plain": [
       "[]"
      ]
     },
     "execution_count": 135,
     "metadata": {},
     "output_type": "execute_result"
    },
    {
     "data": {
      "image/png": "[encoded data removed]",
      "text/plain": [
       "<Figure size 432x288 with 1 Axes>"
      ]
     },
     "metadata": {
      "needs_background": "light"
     },
     "output_type": "display_data"
    }
   ],
   "source": [
    "min_v = min(some_real_numbers)\n",
    "max_v = max(some_real_numbers)\n",
    "margin = 0.1 * (max_v - min_v)\n",
    "\n",
    "fig, ax = plt.subplots()\n",
    "bars = ax.bar(np.arange(len(some_real_numbers)), some_real_numbers, color=colors)\n",
    "ax.bar_label(bars)\n",
    "ax.set_ylim([min_v - margin, max_v + margin])\n",
    "ax.axhline(y=0, color=\"k\", linestyle=\"--\")\n",
    "ax.set_xticks([])"
   ]
  },
  {
   "cell_type": "code",
   "execution_count": 136,
   "metadata": {},
   "outputs": [
    {
     "data": {
      "text/plain": [
       "[0.0531, 0.3164, 0.6093, 0.0211]"
      ]
     },
     "execution_count": 136,
     "metadata": {},
     "output_type": "execute_result"
    }
   ],
   "source": [
    "softmax(some_real_numbers)"
   ]
  },
  {
   "cell_type": "code",
   "execution_count": 137,
   "metadata": {},
   "outputs": [
    {
     "data": {
      "text/plain": [
       "[]"
      ]
     },
     "execution_count": 137,
     "metadata": {},
     "output_type": "execute_result"
    },
    {
     "data": {
      "image/png": "[encoded data removed]",
      "text/plain": [
       "<Figure size 432x288 with 1 Axes>"
      ]
     },
     "metadata": {
      "needs_background": "light"
     },
     "output_type": "display_data"
    }
   ],
   "source": [
    "softmaxed_numbers = softmax(some_real_numbers)\n",
    "\n",
    "min_v = min(softmaxed_numbers)\n",
    "max_v = max(softmaxed_numbers)\n",
    "# margin = 0.1 * (max_v - min_v)\n",
    "\n",
    "fig, ax = plt.subplots()\n",
    "bars = ax.bar(np.arange(len(softmaxed_numbers)), softmaxed_numbers, color=colors)\n",
    "ax.bar_label(bars)\n",
    "ax.set_ylim([min_v - margin, max_v + margin])\n",
    "ax.axhline(y=0, color=\"k\", linestyle=\"--\")\n",
    "ax.set_xticks([])"
   ]
  },
  {
   "cell_type": "code",
   "execution_count": 138,
   "metadata": {},
   "outputs": [
    {
     "data": {
      "text/plain": [
       "0.9998999999999999"
      ]
     },
     "execution_count": 138,
     "metadata": {},
     "output_type": "execute_result"
    }
   ],
   "source": [
    "sum([0.0531, 0.3164, 0.6093, 0.0211])"
   ]
  },
  {
   "cell_type": "code",
   "execution_count": 139,
   "metadata": {},
   "outputs": [
    {
     "data": {
      "text/plain": [
       "[]"
      ]
     },
     "execution_count": 139,
     "metadata": {},
     "output_type": "execute_result"
    },
    {
     "data": {
      "image/png": "[encoded data removed]",
      "text/plain": [
       "<Figure size 432x288 with 1 Axes>"
      ]
     },
     "metadata": {
      "needs_background": "light"
     },
     "output_type": "display_data"
    }
   ],
   "source": [
    "xlim = ax.get_xlim()\n",
    "fig, ax = plt.subplots()\n",
    "ax.set_xlim(xlim)\n",
    "bars = []\n",
    "for i, v in list(enumerate(softmaxed_numbers)):\n",
    "    bar = ax.bar(0, v, bottom=sum(softmaxed_numbers[:i]), color=colors[i])\n",
    "    ax.bar_label(bar, label_type=\"center\", fmt=\"%.4f\")\n",
    "ax.set_ylim([min_v - margin, 1 + margin])\n",
    "ax.axhline(y=0, color=\"k\", linestyle=\"--\")\n",
    "ax.set_yticks([0, 1])\n",
    "ax.set_xticks([])"
   ]
  },
  {
   "cell_type": "code",
   "execution_count": 140,
   "metadata": {},
   "outputs": [
    {
     "data": {
      "text/plain": [
       "[0.7317, 4.3575, 8.3905, 0.2911]"
      ]
     },
     "execution_count": 140,
     "metadata": {},
     "output_type": "execute_result"
    }
   ],
   "source": [
    "import numpy as np\n",
    "\n",
    "\n",
    "def exp(numbers):\n",
    "    positives = np.exp(numbers)  # applying exp\n",
    "    positives = np.around(positives, decimals=4)  # rounding for readability\n",
    "    return positives.tolist()  # converting numpy array to Python list\n",
    "\n",
    "\n",
    "exp(some_real_numbers)"
   ]
  },
  {
   "cell_type": "code",
   "execution_count": 141,
   "metadata": {},
   "outputs": [
    {
     "data": {
      "text/plain": [
       "[]"
      ]
     },
     "execution_count": 141,
     "metadata": {},
     "output_type": "execute_result"
    },
    {
     "data": {
      "image/png": "[encoded data removed]",
      "text/plain": [
       "<Figure size 432x288 with 1 Axes>"
      ]
     },
     "metadata": {
      "needs_background": "light"
     },
     "output_type": "display_data"
    }
   ],
   "source": [
    "positive_numbers = exp(some_real_numbers)\n",
    "\n",
    "min_v = min(some_real_numbers)\n",
    "max_v = max(positive_numbers)\n",
    "margin = 0.1 * (max_v - min_v)\n",
    "\n",
    "fig, ax = plt.subplots()\n",
    "bars = ax.bar(np.arange(len(positive_numbers)), positive_numbers, color=colors)\n",
    "ax.bar_label(bars)\n",
    "ax.set_ylim([min_v - margin, max_v + margin])\n",
    "ax.axhline(y=0, color=\"k\", linestyle=\"--\")\n",
    "ax.set_xticks([])"
   ]
  },
  {
   "cell_type": "code",
   "execution_count": 174,
   "metadata": {},
   "outputs": [
    {
     "data": {
      "text/plain": [
       "[<matplotlib.axis.XTick at 0x7fd618fb93a0>,\n",
       " <matplotlib.axis.XTick at 0x7fd618fb9370>,\n",
       " <matplotlib.axis.XTick at 0x7fd639debd00>,\n",
       " <matplotlib.axis.XTick at 0x7fd618fec7f0>,\n",
       " <matplotlib.axis.XTick at 0x7fd65ae940a0>]"
      ]
     },
     "execution_count": 174,
     "metadata": {},
     "output_type": "execute_result"
    },
    {
     "data": {
      "image/png": "[encoded data removed]",
      "text/plain": [
       "<Figure size 432x288 with 1 Axes>"
      ]
     },
     "metadata": {
      "needs_background": "light"
     },
     "output_type": "display_data"
    }
   ],
   "source": [
    "x = np.arange(-2, 2, 0.1)\n",
    "y = np.exp(x)\n",
    "fig, ax = plt.subplots()\n",
    "ax.plot(x, y, color=\"#F24C3D\", linewidth=3)\n",
    "ax.axhline(y=0, color=\"k\", linestyle=\"--\")\n",
    "ax.axvline(x=0, color=\"k\", linestyle=\"--\")\n",
    "ax.set_xticks([-2, -1, 0, 1, 2])"
   ]
  },
  {
   "cell_type": "code",
   "execution_count": 142,
   "metadata": {},
   "outputs": [
    {
     "data": {
      "text/plain": [
       "[0.0531, 0.3164, 0.6093, 0.0211]"
      ]
     },
     "execution_count": 142,
     "metadata": {},
     "output_type": "execute_result"
    }
   ],
   "source": [
    "import numpy as np\n",
    "\n",
    "\n",
    "def normalize(positive_numbers):\n",
    "    probs = positive_numbers / np.sum(positive_numbers)  # applying normalization\n",
    "    probs = np.around(probs, decimals=4)  # rounding for readability\n",
    "    return probs.tolist()  # converting numpy array to Python list\n",
    "\n",
    "\n",
    "normalize(positive_numbers)"
   ]
  },
  {
   "cell_type": "code",
   "execution_count": 146,
   "metadata": {},
   "outputs": [
    {
     "data": {
      "text/plain": [
       "[]"
      ]
     },
     "execution_count": 146,
     "metadata": {},
     "output_type": "execute_result"
    },
    {
     "data": {
      "image/png": "[encoded data removed]",
      "text/plain": [
       "<Figure size 432x288 with 1 Axes>"
      ]
     },
     "metadata": {
      "needs_background": "light"
     },
     "output_type": "display_data"
    }
   ],
   "source": [
    "probs = normalize(positive_numbers)\n",
    "\n",
    "min_v = min(softmaxed_numbers)\n",
    "max_v = max(softmaxed_numbers)\n",
    "margin = 0.1 * (max_v - min_v)\n",
    "\n",
    "fig, ax = plt.subplots()\n",
    "bars = ax.bar(np.arange(len(probs)), probs, color=colors)\n",
    "ax.bar_label(bars)\n",
    "ax.set_ylim([min_v - margin, 1 + margin])\n",
    "ax.axhline(y=0, color=\"k\", linestyle=\"--\")\n",
    "ax.set_yticks([0, 1])\n",
    "ax.set_xticks([])"
   ]
  },
  {
   "cell_type": "code",
   "execution_count": null,
   "metadata": {},
   "outputs": [
    {
     "data": {
      "text/plain": [
       "' softmax formula decomposition\\n\\x08egin{gather}\\nt_i = e^{z_{i}} \\\\\\n\\\\sigma(z_i) = \\x0crac{t_i}{\\\\sum_{j=1}^K t_j}\\n\\\\end{gather}\\n'"
      ]
     },
     "execution_count": 120,
     "metadata": {},
     "output_type": "execute_result"
    }
   ],
   "source": [
    "\"\"\" softmax formula 1\n",
    "\\sigma(z_i) = \\frac{e^{z_{i}}}{\\sum_{j=1}^K e^{z_{j}}} \\ \\ \\ for\\ i=1,2,\\dots,K\n",
    "\"\"\"\n",
    "\n",
    "\"\"\" softmax formula decomposition\n",
    "\\begin{gather}\n",
    "t_i = e^{z_{i}} \\\\\n",
    "\\sigma(z_i) = \\frac{t_i}{\\sum_{j=1}^K t_j}\n",
    "\\end{gather}\n",
    "\"\"\""
   ]
  }
 ],
 "metadata": {
  "kernelspec": {
   "display_name": "Python 3",
   "language": "python",
   "name": "python3"
  },
  "language_info": {
   "codemirror_mode": {
    "name": "ipython",
    "version": 3
   },
   "file_extension": ".py",
   "mimetype": "text/x-python",
   "name": "python",
   "nbconvert_exporter": "python",
   "pygments_lexer": "ipython3",
   "version": "3.8.10"
  },
  "orig_nbformat": 4
 },
 "nbformat": 4,
 "nbformat_minor": 2
}
